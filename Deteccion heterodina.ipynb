{
 "cells": [
  {
   "cell_type": "code",
   "execution_count": 3,
   "id": "bae21432-bf35-4a33-9721-b9d7cd4171e1",
   "metadata": {},
   "outputs": [
    {
     "name": "stdout",
     "output_type": "stream",
     "text": [
      "10.0%. Run time: 100.63s. Est. time left: 00:00:15:05\n",
      "20.0%. Run time: 220.06s. Est. time left: 00:00:14:40\n",
      "30.0%. Run time: 330.11s. Est. time left: 00:00:12:50\n",
      "40.0%. Run time: 430.72s. Est. time left: 00:00:10:46\n",
      "50.0%. Run time: 528.86s. Est. time left: 00:00:08:48\n",
      "60.0%. Run time: 628.04s. Est. time left: 00:00:06:58\n",
      "70.0%. Run time: 729.87s. Est. time left: 00:00:05:12\n",
      "80.0%. Run time: 831.00s. Est. time left: 00:00:03:27\n",
      "90.0%. Run time: 933.58s. Est. time left: 00:00:01:43\n",
      "100.0%. Run time: 1033.59s. Est. time left: 00:00:00:00\n",
      "Total run time: 1035.48s\n"
     ]
    },
    {
     "ename": "IndexError",
     "evalue": "list index out of range",
     "output_type": "error",
     "traceback": [
      "\u001b[1;31m---------------------------------------------------------------------------\u001b[0m",
      "\u001b[1;31mIndexError\u001b[0m                                Traceback (most recent call last)",
      "Cell \u001b[1;32mIn[3], line 30\u001b[0m\n\u001b[0;32m     27\u001b[0m result \u001b[38;5;241m=\u001b[39m smesolve(H, psi0, tlist, c_ops, [X, Y])\n\u001b[0;32m     29\u001b[0m \u001b[38;5;66;03m# Extraer resultados para cuadraturas\u001b[39;00m\n\u001b[1;32m---> 30\u001b[0m X_values \u001b[38;5;241m=\u001b[39m result\u001b[38;5;241m.\u001b[39mexpect[\u001b[38;5;241m0\u001b[39m]\n\u001b[0;32m     31\u001b[0m Y_values \u001b[38;5;241m=\u001b[39m result\u001b[38;5;241m.\u001b[39mexpect[\u001b[38;5;241m1\u001b[39m]\n\u001b[0;32m     33\u001b[0m \u001b[38;5;66;03m# Graficar las cuadraturas\u001b[39;00m\n",
      "\u001b[1;31mIndexError\u001b[0m: list index out of range"
     ]
    }
   ],
   "source": [
    "from qutip import *\n",
    "import numpy as np\n",
    "import matplotlib.pyplot as plt\n",
    "\n",
    "# Definir el sistema de dos niveles (Qubit)\n",
    "NF = 2\n",
    "Kg = basis(NF, 1)  # Estado base\n",
    "Ke = basis(NF, 0)  # Estado excitado\n",
    "psi0 = Kg\n",
    "\n",
    "# Parámetros del sistema\n",
    "Omega = 1.0   # Frecuencia de Rabi\n",
    "gamma = 0.1   # Tasa de decaimiento espontáneo\n",
    "\n",
    "# Operadores del sistema\n",
    "H = 0.5 * Omega * (Ke * Kg.dag() + Kg * Ke.dag())  # Hamiltoniano de Rabi\n",
    "c_ops = [np.sqrt(gamma) * Kg * Ke.dag()]  # Colapso para decaimiento espontáneo\n",
    "\n",
    "# Cuadraturas para detección heterodina\n",
    "X = 0.5 * (Kg * Ke.dag() + Ke * Kg.dag())  # Cuadratura X\n",
    "Y = -0.5j * (Kg * Ke.dag() - Ke * Kg.dag())  # Cuadratura Y\n",
    "\n",
    "# Tiempo de simulación\n",
    "tlist = np.linspace(0, 50, 1000)\n",
    "\n",
    "# Resolución usando `smesolve` para simulación estocástica continua\n",
    "result = smesolve(H, psi0, tlist, c_ops, [X, Y])\n",
    "\n",
    "# Extraer resultados para cuadraturas\n",
    "X_values = result.expect[0]\n",
    "Y_values = result.expect[1]\n",
    "\n",
    "# Graficar las cuadraturas\n",
    "plt.plot(tlist, X_values, label=\"Cuadratura X\", color=\"blue\")\n",
    "plt.plot(tlist, Y_values, label=\"Cuadratura Y\", color=\"orange\")\n",
    "plt.xlabel(\"Tiempo\")\n",
    "plt.ylabel(\"Valor esperado\")\n",
    "plt.title(\"Simulación de Detección Heterodina (Cuadraturas X e Y)\")\n",
    "plt.legend()\n",
    "plt.grid(True)\n",
    "plt.show()\n"
   ]
  },
  {
   "cell_type": "code",
   "execution_count": null,
   "id": "c65ef4a5-c392-480a-b384-eff49c1024c0",
   "metadata": {},
   "outputs": [],
   "source": []
  }
 ],
 "metadata": {
  "kernelspec": {
   "display_name": "Python 3 (ipykernel)",
   "language": "python",
   "name": "python3"
  },
  "language_info": {
   "codemirror_mode": {
    "name": "ipython",
    "version": 3
   },
   "file_extension": ".py",
   "mimetype": "text/x-python",
   "name": "python",
   "nbconvert_exporter": "python",
   "pygments_lexer": "ipython3",
   "version": "3.12.4"
  }
 },
 "nbformat": 4,
 "nbformat_minor": 5
}
