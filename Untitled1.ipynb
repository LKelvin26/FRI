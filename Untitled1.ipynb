{
 "cells": [
  {
   "cell_type": "code",
   "execution_count": 4,
   "id": "924261b7-4e6f-4c51-be12-dcd43ce0b9f9",
   "metadata": {
    "tags": []
   },
   "outputs": [],
   "source": [
    "from qutip import *\n",
    "import numpy as np\n",
    "# Definir operadores\n",
    "NF = 3\n",
    "Kg = basis(NF, 2)\n",
    "Ka = basis(NF, 1)\n",
    "Ke = basis(NF, 0)\n",
    "\n",
    "# Estado base\n",
    "psi0 = Kg \n",
    "# Definir Hamiltoniano\n",
    "Omega = 3.5\n",
    "Delta = 0\n",
    "ga = 0.015 \n",
    "gd = 0.05\n",
    "g = 0.935\n",
    "\n",
    "# Operadores de colapso\n",
    "Age = Ke * Kg.dag()\n",
    "Aae = Ka * Ke.dag()\n",
    "Aga = Kg * Ka.dag()\n",
    "\n",
    "Ceg = np.sqrt(g) * Age\n",
    "Cea = np.sqrt(gd) * Aae\n",
    "Cag = np.sqrt(ga) * Aga\n",
    "\n",
    "collapse = [Ceg, Cea, Cag]  # Operadores de colapso\n",
    "\n",
    "# Definir operadores para valores esperados\n",
    "Aaa = Ka * Ka.dag()\n",
    "Aee = Ke * Ke.dag()\n",
    "Agg = Kg * Kg.dag()\n",
    "\n",
    "# Valores esperados\n",
    "expect_values = [Aaa, Aee, Agg]\n",
    "\n",
    "# Definir Hamiltoniano\n",
    "H = Delta * Aee + 0.5 * Omega * (Age + Age.dag())\n",
    "\n",
    "# Resolver la ecuación maestra\n",
    "tlist = np.linspace(0, 20, 10000)\n",
    "MC = mesolve(H, psi0, tlist, collapse, expect_values)"
   ]
  },
  {
   "cell_type": "code",
   "execution_count": null,
   "id": "5a4ee37a-3a41-421e-951c-c3480af37cdf",
   "metadata": {},
   "outputs": [],
   "source": []
  }
 ],
 "metadata": {
  "kernelspec": {
   "display_name": "Python 3 (ipykernel)",
   "language": "python",
   "name": "python3"
  },
  "language_info": {
   "codemirror_mode": {
    "name": "ipython",
    "version": 3
   },
   "file_extension": ".py",
   "mimetype": "text/x-python",
   "name": "python",
   "nbconvert_exporter": "python",
   "pygments_lexer": "ipython3",
   "version": "3.11.5"
  }
 },
 "nbformat": 4,
 "nbformat_minor": 5
}
