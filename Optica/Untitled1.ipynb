{
 "cells": [
  {
   "cell_type": "code",
   "execution_count": 4,
   "id": "924261b7-4e6f-4c51-be12-dcd43ce0b9f9",
   "metadata": {
    "tags": []
   },
   "outputs": [],
   "source": [
    "import numpy as np\n",
    "import matplotlib.pyplot as plt\n",
    "from numpy.fft import fftshift, fft2\n",
    "\n",
    "# Parámetros\n",
    "num_points = 500  # Tamaño de la simulación (resolución)\n",
    "slit_width = 5  # Ancho de cada rendija (en pixeles)\n",
    "slit_distance = 10  # Separación entre las dos rendijas (en pixeles)\n",
    "\n",
    "# Crear la función de rendijas (rectángulos)\n",
    "slit_array = np.zeros((num_points, num_points))\n",
    "center = num_points // 2\n",
    "slit_array[center - slit_width//2:center + slit_width//2, center - slit_distance//2] = 1\n",
    "slit_array[center - slit_width//2:center + slit_width//2, center + slit_distance//2] = 1\n",
    "\n",
    "# Aplicar la Transformada de Fourier\n",
    "fourier_image = fftshift(fft2(slit_array))\n",
    "\n",
    "# Calcular la intensidad (cuadrado del valor absoluto de la transformada)\n",
    "intensity = np.abs(fourier_image)**2\n",
    "\n",
    "# Visualizar la intensidad del patrón de difracción\n",
    "plt.figure(figsize=(8, 8))\n",
    "plt.imshow(intensity, cmap='inferno', extent=(-1, 1, -1, 1))\n",
    "plt.title('Patrón de interferencia - Rendijas Rectangulares')\n",
    "plt.xlabel('Dirección X')\n",
    "plt.ylabel('Dirección Y')\n",
    "plt.colorbar(label='Intensidad')\n",
    "plt.show()"
   ]
  },
  {
   "cell_type": "code",
   "execution_count": null,
   "id": "5a4ee37a-3a41-421e-951c-c3480af37cdf",
   "metadata": {},
   "outputs": [],
   "source": [
    "import numpy as np\n",
    "import matplotlib.pyplot as plt\n",
    "from numpy.fft import fftshift, fft2\n",
    "\n",
    "# Parámetros\n",
    "num_points = 500  # Tamaño de la simulación (resolución)\n",
    "radius = 2  # Radio de las rendijas circulares (en pixeles)\n",
    "distance_between_slits = 50  # Distancia entre los centros de las rendijas (en pixeles)\n",
    "\n",
    "# Crear la función de rendijas circulares\n",
    "x, y = np.meshgrid(np.linspace(-num_points/2, num_points/2, num_points),\n",
    "                   np.linspace(-num_points/2, num_points/2, num_points))\n",
    "\n",
    "# Definir dos rendijas circulares\n",
    "slit_array = np.zeros_like(x)\n",
    "slit_array[np.sqrt((x - distance_between_slits/2)**2 + y**2) <= radius] = 1\n",
    "slit_array[np.sqrt((x + distance_between_slits/2)**2 + y**2) <= radius] = 1\n",
    "\n",
    "# Aplicar la Transformada de Fourier\n",
    "fourier_image = fftshift(fft2(slit_array))\n",
    "\n",
    "# Calcular la intensidad (cuadrado del valor absoluto de la transformada)\n",
    "intensity = np.abs(fourier_image)**2\n",
    "\n",
    "# Visualizar la intensidad del patrón de difracción\n",
    "plt.figure(figsize=(8, 8))\n",
    "plt.imshow(intensity, cmap='inferno', extent=(-1, 1, -1, 1))\n",
    "plt.title('Patrón de interferencia - Rendijas Circulares')\n",
    "plt.xlabel('Dirección X')\n",
    "plt.ylabel('Dirección Y')\n",
    "plt.colorbar(label='Intensidad')\n",
    "plt.show()\n"
   ]
  },
  {
   "cell_type": "code",
   "execution_count": null,
   "id": "89faa6ef",
   "metadata": {},
   "outputs": [],
   "source": [
    "slit_array = np.zeros_like(x)\n",
    "slit_array[center - slit_width//2:center + slit_width//2, center - slit_distance//2] = 1\n",
    "slit_array[np.sqrt((x + distance_between_slits/2)**2 + y**2) <= radius] = 1\n",
    "\n",
    "# Aplicar la Transformada de Fourier\n",
    "fourier_image = fftshift(fft2(slit_array))\n",
    "\n",
    "# Calcular la intensidad (cuadrado del valor absoluto de la transformada)\n",
    "intensity = np.abs(fourier_image)**2\n",
    "\n",
    "# Visualizar la intensidad del patrón de difracción\n",
    "plt.figure(figsize=(8, 8))\n",
    "plt.imshow(intensity, cmap='inferno', extent=(-1, 1, -1, 1))\n",
    "plt.title('Patrón de interferencia - Rendijas Circulares')\n",
    "plt.xlabel('Dirección X')\n",
    "plt.ylabel('Dirección Y')\n",
    "plt.colorbar(label='Intensidad')\n",
    "plt.show()"
   ]
  }
 ],
 "metadata": {
  "kernelspec": {
   "display_name": "Python 3 (ipykernel)",
   "language": "python",
   "name": "python3"
  },
  "language_info": {
   "codemirror_mode": {
    "name": "ipython",
    "version": 3
   },
   "file_extension": ".py",
   "mimetype": "text/x-python",
   "name": "python",
   "nbconvert_exporter": "python",
   "pygments_lexer": "ipython3",
   "version": "3.11.5"
  }
 },
 "nbformat": 4,
 "nbformat_minor": 5
}
