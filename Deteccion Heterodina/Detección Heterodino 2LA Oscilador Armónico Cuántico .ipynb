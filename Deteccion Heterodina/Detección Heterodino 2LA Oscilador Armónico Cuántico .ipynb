{
 "cells": [
  {
   "cell_type": "markdown",
   "id": "d217b1ba",
   "metadata": {},
   "source": [
    "### Para implementar la detección heterodina con QuTiP, podemos simular un sistema cuántico bajo medición continua de las cuadraturas del campo electromagnético. En este caso, modelaremos la evolución del sistema y la medición utilizando las ecuaciones de trayectorias cuánticas y obteniendo la señal de medición asociada a la detección heterodina."
   ]
  },
  {
   "cell_type": "markdown",
   "id": "96c60c15",
   "metadata": {},
   "source": [
    "Paso 1: Bibliotecas \n",
    "\n"
   ]
  },
  {
   "cell_type": "code",
   "execution_count": 29,
   "id": "d6ac6391",
   "metadata": {},
   "outputs": [],
   "source": [
    "import numpy as np\n",
    "from qutip import *\n",
    "import matplotlib.pyplot as plt\n"
   ]
  },
  {
   "cell_type": "markdown",
   "id": "f7e66d82",
   "metadata": {},
   "source": [
    "Paso 2: Configurar Sistema Cuántico"
   ]
  },
  {
   "cell_type": "code",
   "execution_count": 30,
   "id": "9a1ba7cb",
   "metadata": {},
   "outputs": [],
   "source": [
    "N = 10  # Número de niveles del oscilador\n",
    "a = destroy(N)  # Operador de destrucción\n",
    "H = a.dag() * a  # Hamiltoniano de oscilador armónico cuántico\n"
   ]
  },
  {
   "cell_type": "code",
   "execution_count": 31,
   "id": "72a15b61",
   "metadata": {},
   "outputs": [],
   "source": [
    "x = (a + a.dag()) / np.sqrt(2)\n"
   ]
  },
  {
   "cell_type": "code",
   "execution_count": 32,
   "id": "cefd960d",
   "metadata": {},
   "outputs": [],
   "source": [
    "p = -1j * (a - a.dag()) / np.sqrt(2)\n"
   ]
  },
  {
   "cell_type": "code",
   "execution_count": 33,
   "id": "25aa5b6f",
   "metadata": {},
   "outputs": [
    {
     "name": "stdout",
     "output_type": "stream",
     "text": [
      "100.0%. Run time:   0.00s. Est. time left: 00:00:00:00\n",
      "Total run time:   0.09s\n"
     ]
    }
   ],
   "source": [
    "# Tiempo de simulación\n",
    "tlist = np.linspace(0, 10, 1000)\n",
    "\n",
    "# Operadores de colapso: medición difusiva de las cuadraturas\n",
    "c_ops = [np.sqrt(0.1) * x, np.sqrt(0.1) * p]\n",
    "\n",
    "# Estado inicial: vacío (vacío cuántico)\n",
    "psi0 = basis(N, 0)\n",
    "\n",
    "\n",
    "# Resolver la evolución del sistema cuántico usando trayectorias cuánticas\n",
    "result = mcsolve(H, psi0, tlist, c_ops, [], ntraj=1)\n"
   ]
  },
  {
   "cell_type": "code",
   "execution_count": 36,
   "id": "8983352c",
   "metadata": {},
   "outputs": [
    {
     "name": "stdout",
     "output_type": "stream",
     "text": [
      "<McResult\n",
      "  Solver: mcsolve\n",
      "  Solver stats:\n",
      "    method: 'adams'\n",
      "    init time: 0.0\n",
      "    preparation time: 0.0\n",
      "    run time: 0.09199810028076172\n",
      "    solver: 'Master Equation Evolution'\n",
      "    num_collapse: 2\n",
      "    end_condition: 'ntraj reached'\n",
      "  Time interval: [0.0, 10.0] (1000 steps)\n",
      "  Number of e_ops: 0\n",
      "  States saved.\n",
      "  Number of trajectories: 1\n",
      "  Trajectories not saved.\n",
      ">\n"
     ]
    },
    {
     "ename": "IndexError",
     "evalue": "list index out of range",
     "output_type": "error",
     "traceback": [
      "\u001b[1;31m---------------------------------------------------------------------------\u001b[0m",
      "\u001b[1;31mIndexError\u001b[0m                                Traceback (most recent call last)",
      "Cell \u001b[1;32mIn[36], line 3\u001b[0m\n\u001b[0;32m      1\u001b[0m \u001b[38;5;66;03m# Extraer las corrientes de medición\u001b[39;00m\n\u001b[0;32m      2\u001b[0m \u001b[38;5;28mprint\u001b[39m(result)\n\u001b[1;32m----> 3\u001b[0m measurement_x \u001b[38;5;241m=\u001b[39m result\u001b[38;5;241m.\u001b[39mexpect[\u001b[38;5;241m0\u001b[39m]\n\u001b[0;32m      4\u001b[0m measurement_p \u001b[38;5;241m=\u001b[39m result\u001b[38;5;241m.\u001b[39mexpect[\u001b[38;5;241m1\u001b[39m]\n\u001b[0;32m      6\u001b[0m \u001b[38;5;66;03m# Graficar las corrientes de medición\u001b[39;00m\n",
      "\u001b[1;31mIndexError\u001b[0m: list index out of range"
     ]
    }
   ],
   "source": [
    "\n",
    "# Extraer las corrientes de medición\n",
    "print(result)\n",
    "measurement_x = result.expect[0]\n",
    "measurement_p = result.expect[1]\n",
    "\n",
    "# Graficar las corrientes de medición\n",
    "plt.figure(figsize=(10, 6))\n",
    "plt.plot(tlist, measurement_x, label=\"Medición de X\")\n",
    "plt.plot(tlist, measurement_p, label=\"Medición de P\")\n",
    "plt.xlabel('Tiempo')\n",
    "plt.ylabel('Corriente de medición')\n",
    "plt.title('Corrientes de medición en detección heterodina')\n",
    "plt.legend()\n",
    "plt.show()"
   ]
  },
  {
   "cell_type": "code",
   "execution_count": null,
   "id": "e508e932",
   "metadata": {},
   "outputs": [],
   "source": []
  },
  {
   "cell_type": "code",
   "execution_count": null,
   "id": "f708efcb",
   "metadata": {},
   "outputs": [],
   "source": []
  }
 ],
 "metadata": {
  "kernelspec": {
   "display_name": "Python 3 (ipykernel)",
   "language": "python",
   "name": "python3"
  },
  "language_info": {
   "codemirror_mode": {
    "name": "ipython",
    "version": 3
   },
   "file_extension": ".py",
   "mimetype": "text/x-python",
   "name": "python",
   "nbconvert_exporter": "python",
   "pygments_lexer": "ipython3",
   "version": "3.11.5"
  }
 },
 "nbformat": 4,
 "nbformat_minor": 5
}
