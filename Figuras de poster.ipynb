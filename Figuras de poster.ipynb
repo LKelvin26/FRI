{
 "cells": [
  {
   "cell_type": "markdown",
   "id": "e05894c0-7d17-49a4-af75-500e64291974",
   "metadata": {},
   "source": [
    "# Figuras del poster\n",
    "- El sistema\n",
    "- Pee,Pgg,Paa MEQ\n",
    "- Pee con varios números de trayectorias\n",
    "- comprarar con Pee MEq\n",
    "- Pee una trayectoria con varios larga con varios periodos brillantes y oscuros\n",
    "- Zoom de un periodo brillante ver oscilaciones y brincos SALTOS\n",
    "- Distribución de periodos oscuros\n",
    "- Duracion de periodos oscuros (Una trayectoria)\n",
    "- NO OLVIDAR LOS PARAMETROS\n",
    "  g,ga,gc,rho,delta=0,deltat.\n",
    "  "
   ]
  },
  {
   "cell_type": "code",
   "execution_count": null,
   "id": "03fccbc0-b5e6-4f49-9b3f-08ba55cccd20",
   "metadata": {},
   "outputs": [],
   "source": []
  }
 ],
 "metadata": {
  "kernelspec": {
   "display_name": "Python 3 (ipykernel)",
   "language": "python",
   "name": "python3"
  },
  "language_info": {
   "codemirror_mode": {
    "name": "ipython",
    "version": 3
   },
   "file_extension": ".py",
   "mimetype": "text/x-python",
   "name": "python",
   "nbconvert_exporter": "python",
   "pygments_lexer": "ipython3",
   "version": "3.12.4"
  }
 },
 "nbformat": 4,
 "nbformat_minor": 5
}
