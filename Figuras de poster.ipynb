{
 "cells": [
  {
   "cell_type": "markdown",
   "id": "e05894c0-7d17-49a4-af75-500e64291974",
   "metadata": {},
   "source": [
    "# Figuras del poster\n",
    "- El sistema \n",
    "- Pee,Pgg,Paa MEQ\n",
    "- Pee con varios números de trayectorias\n",
    "- comprarar con Pee MEq\n",
    "- Pee una trayectoria con varios larga con varios periodos brillantes y oscuros\n",
    "- Zoom de un periodo brillante ver oscilaciones y brincos SALTOS\n",
    "- Distribución de periodos oscuros\n",
    "- Duracion de periodos oscuros (Una trayectoria)\n",
    "- NO OLVIDAR LOS PARAMETROS\n",
    "  g,ga,gc,rho,delta=0,deltat.\n",
    "  "
   ]
  },
  {
   "cell_type": "markdown",
   "id": "74bc8139-f236-4c6a-a7ac-21848d930a8a",
   "metadata": {},
   "source": [
    "Probar varios ro= (g,2g,3g)\n"
   ]
  },
  {
   "cell_type": "markdown",
   "id": "6dba18b4-0405-4718-be69-9a40636afb05",
   "metadata": {},
   "source": [
    "Figura del espectro dependiente del tiempo"
   ]
  },
  {
   "cell_type": "markdown",
   "id": "1b12038c-8566-4d52-ae7c-addf9e8b4ca4",
   "metadata": {},
   "source": [
    "Mencionar el trabajo en progreso: Detección heterodina (Trayectorias cuánticas difusivas)"
   ]
  },
  {
   "cell_type": "code",
   "execution_count": null,
   "id": "24396d96-7e1d-4578-8069-dab2d1b0a455",
   "metadata": {},
   "outputs": [],
   "source": []
  }
 ],
 "metadata": {
  "kernelspec": {
   "display_name": "Python 3 (ipykernel)",
   "language": "python",
   "name": "python3"
  },
  "language_info": {
   "codemirror_mode": {
    "name": "ipython",
    "version": 3
   },
   "file_extension": ".py",
   "mimetype": "text/x-python",
   "name": "python",
   "nbconvert_exporter": "python",
   "pygments_lexer": "ipython3",
   "version": "3.11.5"
  }
 },
 "nbformat": 4,
 "nbformat_minor": 5
}
