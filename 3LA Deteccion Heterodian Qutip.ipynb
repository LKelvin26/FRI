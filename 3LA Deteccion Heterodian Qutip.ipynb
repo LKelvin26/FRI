{
 "cells": [
  {
   "cell_type": "code",
   "execution_count": 23,
   "id": "4722087a-59d8-4ef1-a558-cc499024c63b",
   "metadata": {
    "tags": []
   },
   "outputs": [
    {
     "name": "stdout",
     "output_type": "stream",
     "text": [
      "10.0%. Run time:  20.29s. Est. time left: 00:00:03:02\n",
      "20.0%. Run time:  43.04s. Est. time left: 00:00:02:52\n",
      "30.0%. Run time:  65.61s. Est. time left: 00:00:02:33\n",
      "40.0%. Run time:  88.14s. Est. time left: 00:00:02:12\n",
      "50.0%. Run time: 110.80s. Est. time left: 00:00:01:50\n",
      "60.0%. Run time: 133.38s. Est. time left: 00:00:01:28\n",
      "70.0%. Run time: 155.68s. Est. time left: 00:00:01:06\n",
      "80.0%. Run time: 178.44s. Est. time left: 00:00:00:44\n",
      "90.0%. Run time: 201.40s. Est. time left: 00:00:00:22\n",
      "100.0%. Run time: 225.04s. Est. time left: 00:00:00:00\n",
      "Total run time: 227.58s\n"
     ]
    }
   ],
   "source": [
    "import numpy as np\n",
    "import qutip as qt\n",
    "import matplotlib.pyplot as plt\n",
    "\n",
    "# Parámetros físicos\n",
    "Omega = 3\n",
    "Delta = 0\n",
    "g = 0.95\n",
    "gd = 0.05\n",
    "ga = 0.015\n",
    "num_traj = 100\n",
    "\n",
    "# Parámetros del sistema\n",
    "NF = 3\n",
    "Kg = qt.basis(NF, 2)\n",
    "Ka = qt.basis(NF, 1)\n",
    "Ke = qt.basis(NF, 0)\n",
    "\n",
    "# Operadores de proyección y transición\n",
    "Agg = Kg * Kg.dag()\n",
    "Aaa = Ka * Ka.dag()\n",
    "Aee = Ke * Ke.dag()\n",
    "\n",
    "Age = Kg * Ke.dag()  # σ-\n",
    "Aeg = Age.dag()      # σ+\n",
    "\n",
    "Aae = Ka * Ke.dag()\n",
    "Aea = Aae.dag()\n",
    "Aga = Kg * Ka.dag()\n",
    "Aag = Aga.dag()\n",
    "\n",
    "# Estado inicial\n",
    "psi0 = Kg\n",
    "\n",
    "# Tiempos\n",
    "t_max = 50\n",
    "dt = 0.01\n",
    "steps = int(t_max / dt)\n",
    "times = np.linspace(0, t_max, steps)\n",
    "\n",
    "\n",
    "\n",
    "# Hamiltoniano (como antes)\n",
    "H = Delta * Aee + 0.5 * Omega * (Aeg + Age)\n",
    "\n",
    "# Operadores de colapso (decays)\n",
    "c_ops = [\n",
    "    np.sqrt(g) * Age,     # |e> → |g>\n",
    "    np.sqrt(gd) * Aae,    # |e> → |a>\n",
    "    np.sqrt(ga) * Aga     # |a> → |g>\n",
    "]\n",
    "\n",
    "# Operador de medición (heterodina típicamente usa σ-)\n",
    "# Se necesita una lista de operadores medidos (en este caso sólo uno)\n",
    "# También puedes medir múltiples observables\n",
    "sc_ops = [np.sqrt(g) * Age]  # detector mide emisión de |e> → |g>\n",
    "\n",
    "# Simulación con smesolve (trayectoria individual)\n",
    "\n",
    "# Simulación con smesolve corregida\n",
    "trajectories = qt.smesolve(\n",
    "    H, psi0, times,\n",
    "    c_ops=c_ops,\n",
    "    sc_ops=sc_ops,\n",
    "    e_ops=[Aee,Agg,Aee],\n",
    "    ntraj=num_traj,\n",
    "    heterodyne=True,           # <-- reemplaza \"solver='heterodyne'\"\n",
    "    options={\"store_measurement\": True}              # <-- usa Options en vez de store_measurement directamente\n",
    ")\n",
    "# Extraer fotocorrientes y poblaciones promedio\n",
    "\n",
    "\n",
    "\n"
   ]
  },
  {
   "cell_type": "code",
   "execution_count": 24,
   "id": "cee56689-f11b-4cbf-ad09-5f5653cd19e7",
   "metadata": {
    "tags": []
   },
   "outputs": [
    {
     "ename": "NameError",
     "evalue": "name 'H_sys' is not defined",
     "output_type": "error",
     "traceback": [
      "\u001b[1;31m---------------------------------------------------------------------------\u001b[0m",
      "\u001b[1;31mNameError\u001b[0m                                 Traceback (most recent call last)",
      "Cell \u001b[1;32mIn[24], line 6\u001b[0m\n\u001b[0;32m      3\u001b[0m pop_e \u001b[38;5;241m=\u001b[39m trajectories\u001b[38;5;241m.\u001b[39mexpect[\u001b[38;5;241m0\u001b[39m]\n\u001b[0;32m      5\u001b[0m rho0 \u001b[38;5;241m=\u001b[39m qt\u001b[38;5;241m.\u001b[39mket2dm(qt\u001b[38;5;241m.\u001b[39mbasis(\u001b[38;5;241m3\u001b[39m, \u001b[38;5;241m0\u001b[39m))\n\u001b[1;32m----> 6\u001b[0m result_me \u001b[38;5;241m=\u001b[39m qt\u001b[38;5;241m.\u001b[39mmesolve(H_sys, rho0, times, c_ops,expect_values )\n\u001b[0;32m      7\u001b[0m plt\u001b[38;5;241m.\u001b[39mplot(times, result_me\u001b[38;5;241m.\u001b[39mexpect[\u001b[38;5;241m1\u001b[39m], \u001b[38;5;124m'\u001b[39m\u001b[38;5;124mk-\u001b[39m\u001b[38;5;124m'\u001b[39m, label\u001b[38;5;241m=\u001b[39m\u001b[38;5;124m'\u001b[39m\u001b[38;5;124mLindblad\u001b[39m\u001b[38;5;124m'\u001b[39m, linewidth\u001b[38;5;241m=\u001b[39m\u001b[38;5;241m2\u001b[39m)\n\u001b[0;32m      9\u001b[0m plt\u001b[38;5;241m.\u001b[39mxlabel(\u001b[38;5;124m\"\u001b[39m\u001b[38;5;124mTiempo\u001b[39m\u001b[38;5;124m\"\u001b[39m)\n",
      "\u001b[1;31mNameError\u001b[0m: name 'H_sys' is not defined"
     ]
    }
   ],
   "source": [
    "expect_values = [Aee,Agg,Aaa]\n",
    "\n",
    "pop_e = trajectories.expect[0]\n",
    "\n",
    "rho0 = qt.ket2dm(qt.basis(3, 0))\n",
    "result_me = qt.mesolve(H_sys, rho0, times, c_ops,expect_values )\n",
    "plt.plot(times, result_me.expect[1], 'k-', label='Lindblad', linewidth=2)\n",
    "\n",
    "plt.xlabel(\"Tiempo\")\n",
    "plt.ylabel(\"Población $P_e(t)$\")\n",
    "plt.legend()\n",
    "plt.show()\n",
    "\n",
    "# Plots\n",
    "plt.figure(figsize=(10, 6))\n",
    "plt.plot(times, pop_e_avg, label='⟨e|ρ|e⟩')\n",
    "\n",
    "plt.xlabel(\"Tiempo\")\n",
    "plt.ylabel(\"Población promedio\")\n",
    "plt.legend()\n",
    "plt.title(\"Dinámica poblacional (promedio sobre trayectorias)\")\n",
    "plt.grid()\n",
    "plt.show()\n"
   ]
  },
  {
   "cell_type": "code",
   "execution_count": null,
   "id": "222dd18c-0580-42e9-8c57-64243a0f5067",
   "metadata": {
    "tags": []
   },
   "outputs": [],
   "source": [
    "import numpy as np\n",
    "\n",
    "# 1. Obtener los datos originales\n",
    "I_t = np.array(trajectories.measurement)  # Shape: (100, 1, 2, 4999)\n",
    "\n",
    "# 2. Eliminar la dimensión unitaria (100, 1, 2, 4999) -> (100, 2, 4999)\n",
    "I_t = np.squeeze(I_t, axis=1)\n",
    "\n",
    "# 3. Añadir un cero inicial a cada componente (real e imaginaria)\n",
    "# Creamos arrays nuevos con 5000 puntos (4999 + 1 cero al inicio)\n",
    "I_t_with_zero = np.zeros((100, 2, 5000))\n",
    "I_t_with_zero[:, :, 1:] = I_t  # Los primeros 4999 puntos después del cero\n",
    "\n",
    "# 4. Combinar partes real e imaginaria\n",
    "trajectories_I = I_t_with_zero[:, 0, :] + 1j * I_t_with_zero[:, 1, :]  # Shape: (100, 5000)\n",
    "\n",
    "# Verificación:\n",
    "print(\"Shape final:\", trajectories_I.shape)  # Debería ser (100, 5000)\n",
    "print(\"\\nPrimera trayectoria (primeros 5 puntos complejos):\")\n",
    "print(trajectories_I[0, :5])\n",
    "print(\"\\nÚltima trayectoria (últimos 5 puntos complejos):\")\n",
    "print(trajectories_I[-1, -5:])"
   ]
  },
  {
   "cell_type": "code",
   "execution_count": null,
   "id": "402b7f40-7be6-44aa-902d-38359eef1fdf",
   "metadata": {
    "tags": []
   },
   "outputs": [],
   "source": [
    "from scipy.signal import correlate\n",
    "from scipy.fft import fft, fftfreq, fftshift\n",
    "import matplotlib.pyplot as plt\n",
    "\n",
    "num_traj, steps = trajectories_I.shape\n",
    "\n",
    "# Autocorrelación promedio\n",
    "autocorr_total = np.zeros(2*steps - 1, dtype=np.complex128)\n",
    "\n",
    "for k in range(num_traj):\n",
    "    I = trajectories_I[k, :]  # Fotocorriente compleja\n",
    "    autocorr = correlate(I, I, mode='full')  # autocorrelación cruzada\n",
    "    autocorr_total += autocorr\n",
    "\n",
    "# Promedio\n",
    "autocorr_avg = autocorr_total / num_traj\n",
    "\n",
    "# Tiempo de retardo asociado\n",
    "lags = np.arange(-steps + 1, steps) * dt\n",
    "positive_lags = lags >= 0\n",
    "tau = lags[positive_lags]\n",
    "autocorr_pos = autocorr_avg[positive_lags] \n",
    "# Transformada de Fourier: S(ω) = ∫ dτ e^{iωτ} <I(t+τ) I(t)>\n",
    "S_w = fftshift(fft(autocorr_pos))\n",
    "freqs = fftshift(fftfreq(len(tau), dt))"
   ]
  },
  {
   "cell_type": "code",
   "execution_count": null,
   "id": "95d30ed8-1666-4a59-b8db-5f278f0a91ba",
   "metadata": {
    "tags": []
   },
   "outputs": [],
   "source": [
    "# Graficar\n",
    "plt.figure(figsize=(8, 4))\n",
    "plt.plot(freqs, np.real(S_w) / np.max(np.real(S_w)))\n",
    "plt.xlabel(\"Frecuencia [ω]\")\n",
    "plt.ylabel(\"Espectro S(ω)\")\n",
    "plt.title(\"Espectro desde fotocorriente simulada\")\n",
    "plt.grid(True)\n",
    "plt.axvline(x=Omega/(2*np.pi), color='r', linestyle='--', label=f'ω=±{Omega}')\n",
    "plt.axvline(x=-Omega/(2*np.pi), color='r', linestyle='--')\n",
    "\n",
    "plt.xlim(-3,3)\n",
    "plt.show()"
   ]
  },
  {
   "cell_type": "code",
   "execution_count": null,
   "id": "40e25540-1392-4107-b32f-12023e83b262",
   "metadata": {},
   "outputs": [],
   "source": []
  }
 ],
 "metadata": {
  "kernelspec": {
   "display_name": "Python 3 (ipykernel)",
   "language": "python",
   "name": "python3"
  },
  "language_info": {
   "codemirror_mode": {
    "name": "ipython",
    "version": 3
   },
   "file_extension": ".py",
   "mimetype": "text/x-python",
   "name": "python",
   "nbconvert_exporter": "python",
   "pygments_lexer": "ipython3",
   "version": "3.11.5"
  }
 },
 "nbformat": 4,
 "nbformat_minor": 5
}
