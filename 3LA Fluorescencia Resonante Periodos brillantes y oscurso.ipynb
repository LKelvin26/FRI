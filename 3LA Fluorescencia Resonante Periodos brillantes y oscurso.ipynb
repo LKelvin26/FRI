{
 "cells": [
  {
   "cell_type": "markdown",
   "id": "3c8e854e",
   "metadata": {},
   "source": [
    "# Programa de la solución de las trayectorias cuánticas para el sistema de 3 niveles.\n",
    "## Distribución de periodos brillantes y obscuros \n",
    "## Distrubución de tiempos de espera\n",
    "## Distribución de conteo de fotones "
   ]
  },
  {
   "cell_type": "markdown",
   "id": "a8d38725-0d66-49f6-8add-8d9d9db5d8b9",
   "metadata": {},
   "source": [
    "## Figura del proyecto"
   ]
  },
  {
   "cell_type": "markdown",
   "id": "f0c5fa39",
   "metadata": {},
   "source": [
    "\n",
    "<img src=\"3LAkev.png\" alt=\"a\" class=\"bg-primary mb-1\" width=\"400px\">\n"
   ]
  },
  {
   "cell_type": "code",
   "execution_count": 1,
   "id": "f313878d",
   "metadata": {
    "tags": []
   },
   "outputs": [],
   "source": [
    "import qutip \n",
    "from qutip import *\n",
    "import numpy as np\n",
    "import matplotlib.pyplot as plt\n",
    "import pandas as pd\n",
    "from pylab import *"
   ]
  },
  {
   "cell_type": "markdown",
   "id": "10f13a0f",
   "metadata": {},
   "source": [
    "\n",
    "### La funcion basis es para el número de estados de Fock en el espacio de Hilbert. Si es una lista, entonces el objeto resultante será un producto tensorial  sobre espacios con esas dimensiones.\n"
   ]
  },
  {
   "cell_type": "code",
   "execution_count": 2,
   "id": "b5d98ee9",
   "metadata": {
    "tags": []
   },
   "outputs": [],
   "source": [
    "NF=3\n",
    "Kg = basis(NF,2)\n",
    "Ka = basis(NF,1)\n",
    "Ke = basis(NF,0)\n",
    "\n",
    "# Estado base\n",
    "psi0 = Kg "
   ]
  },
  {
   "cell_type": "markdown",
   "id": "309658c7",
   "metadata": {},
   "source": [
    "### Para describir los estados de sistemas cuánticos multipartitos (como dos qubits acoplados, un qubit acoplado a un oscilador, etc.) necesitamos expandir el espacio de Hilbert tomando el producto tensorial de los vectores de estado para cada uno de los componentes del sistema. De manera similar, los operadores que actúan sobre los vectores de estado en el espacio de Hilbert combinado (que describe el sistema acoplado) se forman tomando el producto tensorial de los operadores individuales."
   ]
  },
  {
   "cell_type": "code",
   "execution_count": 3,
   "id": "0398ff81",
   "metadata": {
    "tags": []
   },
   "outputs": [],
   "source": [
    "Aaa = Ka*Ka.dag()\n",
    "Aee = Ke*Ke.dag()\n",
    "Agg = Kg*Kg.dag()\n",
    "Aeg = Ke*Kg.dag()\n",
    "Aag = Ka*Kg.dag()\n",
    "Aea = Ke*Ka.dag()\n",
    "Aae = Ka*Ke.dag()\n",
    "Aga = Kg*Ka.dag()\n",
    "Age = Kg*Ke.dag()\n",
    "\n",
    "#Valores esperados\n",
    "ket_a = Aaa #Definiendo los valores esperados con la diagonal principal\n",
    "ket_e = Aee\n",
    "ket_g = Agg\n",
    "\n",
    "expect_values = [Aaa,\n",
    "Aee,\n",
    "Agg] #Los valores esperados se ponen en forma de lista, no se si importe su orden\n"
   ]
  },
  {
   "cell_type": "markdown",
   "id": "fee9f87e",
   "metadata": {},
   "source": [
    "### Parametros del experimento. "
   ]
  },
  {
   "cell_type": "code",
   "execution_count": 4,
   "id": "fb64c6e3",
   "metadata": {
    "tags": []
   },
   "outputs": [],
   "source": [
    "Omega = 2 #Frecuencia de rabi\n",
    "Delta = 0 #Desintonia\n",
    "deltat =1000000\n",
    "ga = 0.015 \n",
    "gd = 0.05\n",
    "g = 0.95\n",
    "ntraj = 1 # Numero de trayectorias \n",
    "tlist = np.linspace(0,100000,deltat)\n",
    "\n",
    "#El numero de trayectorias necesarias para ver periodos brillantes y obscuros tiene que ser 1 \n",
    "#De lo contrario como ensamble no se ve porque en el mismo coinciden periodos brillantes con los obscuros de otros \n",
    "#Esta parpadeo es caracteristico de puntos cuanticos, átomos y algunas moleculas "
   ]
  },
  {
   "cell_type": "markdown",
   "id": "85eb7b49",
   "metadata": {},
   "source": [
    "### Operadores de colapso"
   ]
  },
  {
   "cell_type": "code",
   "execution_count": 5,
   "id": "aa68f09f",
   "metadata": {
    "tags": []
   },
   "outputs": [],
   "source": [
    "# Operadores de colapso\n",
    "Ceg = np.sqrt(g)*Age \n",
    "Cea = np.sqrt(gd)*Aae\n",
    "Cag = np.sqrt(ga)*Aga\n",
    "collapse = [Ceg ,Cea, Cag] #Ceg colapso 0, Cea colapso 1, Cag colapso 2\n"
   ]
  },
  {
   "cell_type": "markdown",
   "id": "d649ac76",
   "metadata": {},
   "source": [
    "### Hamiltoniano"
   ]
  },
  {
   "cell_type": "code",
   "execution_count": 6,
   "id": "5e581bad",
   "metadata": {
    "tags": []
   },
   "outputs": [],
   "source": [
    "#Hamiltoniano del sistema, no se le añaden los terminos de los colapsos porque el programa de la solucion de montecarlo\n",
    "#lo hace en automatico  con la funcion de liuvillian(H)\n",
    "H = Delta * Aee + 0.5 * Omega * (Aeg + Age)"
   ]
  },
  {
   "cell_type": "markdown",
   "id": "8a26f6df",
   "metadata": {},
   "source": [
    "### Metodo de montecarlo para resolver las trayectorias cuanticas-"
   ]
  },
  {
   "cell_type": "code",
   "execution_count": null,
   "id": "85167d90",
   "metadata": {
    "tags": []
   },
   "outputs": [
    {
     "name": "stdout",
     "output_type": "stream",
     "text": [
      "100.0%. Run time:   0.00s. Est. time left: 00:00:00:00\n"
     ]
    }
   ],
   "source": [
    "\n",
    "MC = mcsolve(H, psi0, tlist, collapse, expect_values, 1,\n",
    "             options={'num_cpus': 6})  # Pasar las opciones como diccionario"
   ]
  },
  {
   "cell_type": "code",
   "execution_count": null,
   "id": "f2805775",
   "metadata": {
    "tags": []
   },
   "outputs": [],
   "source": [
    "collapse = MC.col_which;\n",
    "times = MC.col_times;\n",
    "collapse_list = list(zip(collapse[0], times[0]))\n",
    "lc=collapse_list\n",
    "data = pd.DataFrame(collapse_list, columns=['colapso','tiempo'])\n",
    "a=data[data['colapso']==2]\n",
    "b=data[data['colapso']==1]\n",
    "c=data[data['colapso']==0]\n",
    "\n",
    "tamax=len(lc)\n"
   ]
  },
  {
   "cell_type": "markdown",
   "id": "81d388a6-8f4d-4bb3-bfdf-8c0a9e2e076c",
   "metadata": {},
   "source": [
    "## Distribución de periodos brillantes y obscuros "
   ]
  },
  {
   "cell_type": "code",
   "execution_count": null,
   "id": "79d100ce",
   "metadata": {
    "tags": []
   },
   "outputs": [],
   "source": [
    "# Tiempo en el que ocurren los periodos oscuros\n",
    "tod=0\n",
    "toscuro=0\n",
    "cnt=0\n",
    "tdur=[]\n",
    "tbdur=[]\n",
    "tiempos=[]\n",
    "tiemposb=[]\n",
    "a=0\n",
    "for i in lc:\n",
    "    if lc[cnt][0] == 1 and cnt<tamax-2:\n",
    "        tb=lc[cnt][1]-lc[a][1]\n",
    "        tbdur.append(tb)\n",
    "        tbrillante=tb\n",
    "        tiemposb.append(lc[a][1])\n",
    "        \n",
    "        tod=lc[cnt+2][1]-lc[cnt][1]\n",
    "        toscuro=toscuro+tod\n",
    "        tdur.append(tod) \n",
    "        tdo=lc[cnt][1]+lc[cnt+2][1]\n",
    "        tiempos.append(tdo*0.5)\n",
    "        a=cnt\n",
    "    cnt=cnt+1\n",
    "tiempos.pop(0) \n",
    "tdur.pop(0) \n",
    "tiempos.pop(len(tiempos)-1) \n",
    "tdur.pop(len(tdur)-1) \n",
    "\n",
    "tiemposb.pop(0) \n",
    "tbdur.pop(0) \n",
    "tiemposb.pop(len(tiempos)-1) \n",
    "tbdur.pop(len(tdur)-1) \n",
    "\n"
   ]
  },
  {
   "cell_type": "code",
   "execution_count": null,
   "id": "58569607-3d77-41fb-8843-f463d156ceaa",
   "metadata": {
    "tags": []
   },
   "outputs": [],
   "source": [
    "collapse = MC.col_which\n",
    "times = MC.col_times\n",
    "collapse_list = list(zip(collapse[0], times[0]))\n",
    "lc = collapse_list\n",
    "data = pd.DataFrame(collapse_list, columns=['colapso', 'tiempo'])\n",
    "\n",
    "tamax = len(lc)\n",
    "\n",
    "# Inicialización de variables\n",
    "tod = 0\n",
    "toscuro = 0\n",
    "cnt = 0\n",
    "tdur = []\n",
    "tbdur = []\n",
    "tiempos = []\n",
    "tiemposb = []\n",
    "\n",
    "a = 0  # Inicialización del índice\n",
    "\n",
    "# Bucle para calcular los tiempos brillantes y oscuros\n",
    "for i in lc:\n",
    "    if lc[cnt][0] == 1 and cnt < tamax - 2:\n",
    "        tb = lc[cnt][1] - lc[a][1]\n",
    "        tbdur.append(tb)\n",
    "        tiemposb.append(lc[a][1])\n",
    "\n",
    "        if cnt + 2 < tamax:  # Validación para evitar índices fuera de rango\n",
    "            tod = lc[cnt + 2][1] - lc[cnt][1]\n",
    "            toscuro = toscuro + tod\n",
    "            tdur.append(tod)\n",
    "            tdo = lc[cnt][1] + lc[cnt + 2][1]\n",
    "            tiempos.append(tdo * 0.5)\n",
    "        a = cnt  # Actualizamos el índice de referencia\n",
    "    cnt += 1\n",
    "\n",
    "# Eliminar el primer y último elemento solo si las listas no están vacías\n",
    "if len(tiempos) > 1:\n",
    "    tiempos.pop(0)\n",
    "    tiempos.pop(len(tiempos) - 1)\n",
    "\n",
    "if len(tdur) > 1:\n",
    "    tdur.pop(0)\n",
    "    tdur.pop(len(tdur) - 1)\n",
    "\n",
    "if len(tiemposb) > 1:\n",
    "    tiemposb.pop(0)\n",
    "    tiemposb.pop(len(tiemposb) - 1)\n",
    "\n",
    "if len(tbdur) > 1:\n",
    "    tbdur.pop(0)\n",
    "    tbdur.pop(len(tbdur) - 1)\n"
   ]
  },
  {
   "cell_type": "code",
   "execution_count": null,
   "id": "82f8f95d",
   "metadata": {
    "tags": []
   },
   "outputs": [],
   "source": [
    "plt.figure(figsize=(8,6))\n",
    "plt.bar(tiemposb,tbdur, label =r'tiempo en el que ocurre un periodo brillante',width=30)\n",
    "plt.xlabel(r'$\\gamma t$',fontsize=20)\n",
    "plt.ylabel(r'Duración ($\\gamma^-1$)',fontsize=20)\n",
    "tbrill=10000-toscuro"
   ]
  },
  {
   "cell_type": "code",
   "execution_count": null,
   "id": "3b0ed409",
   "metadata": {
    "tags": []
   },
   "outputs": [],
   "source": [
    "plt.figure(figsize=(8,6))\n",
    "plt.bar(tiempos,tdur, label =r'tiempo en el que ocurre un periodo oscuro',width=30)\n",
    "plt.xlabel(r'$\\gamma t$',fontsize=20)\n",
    "plt.ylabel(r'Duración ($\\gamma^-1$)',fontsize=20)\n",
    "tbrill=10000-toscuro\n",
    "plt.ylim(0,400)\n"
   ]
  },
  {
   "cell_type": "code",
   "execution_count": null,
   "id": "389433f9-4e9f-45ec-843a-8117f93465c3",
   "metadata": {
    "tags": []
   },
   "outputs": [],
   "source": [
    "# Histograma de la duracion de periodos oscuros\n",
    "plt.figure(figsize=(8,6))\n",
    "plt.hist(tdur,20,histtype ='barstacked',label='Hisotograma de la duracion de periodos oscuros',rwidth=1,edgecolor='black',color='red')\n",
    "plt.xlabel(r'$\\gamma t$',fontsize=20)\n",
    "plt.ylabel('Número de periodos oscuros',fontsize=20)"
   ]
  },
  {
   "cell_type": "code",
   "execution_count": null,
   "id": "ebb1f25e",
   "metadata": {
    "tags": []
   },
   "outputs": [],
   "source": [
    "# Histograma de la duracion de periodos brillantes\n",
    "plt.figure(figsize=(8,6))\n",
    "plt.hist(tbdur,20,histtype ='barstacked',label='Hisotograma de la duracion de periodos oscuros',rwidth=1,edgecolor='black',color='red')\n",
    "plt.xlabel(r'$\\gamma t$',fontsize=20)\n",
    "plt.ylabel('Número de periodos oscuros',fontsize=20)"
   ]
  },
  {
   "cell_type": "code",
   "execution_count": null,
   "id": "15b9c2dc",
   "metadata": {
    "tags": []
   },
   "outputs": [],
   "source": [
    "'''\n",
    "Comparacion de los periodos brillantes y oscuros medidos con los de las formulas\n",
    "Omega = 1 #Frecuencia de rabi\n",
    "Delta = 0 #Desintonia\n",
    "ga = 0.015 \n",
    "gd = 0.05\n",
    "g = 0.935\n",
    "tlist\n",
    "'''\n",
    "\n",
    "#Promedio periodos oscuros\n",
    "tlis = np.linspace(0,800,950)\n",
    "a=np.mean(tdur)\n",
    "Toc=1/ga\n",
    "TBc=(2*Omega**3+g**2+4*Delta**2)/(gd*Omega**2)\n",
    "POc=(300000)*(1/Toc)*exp(-tlis/Toc)\n",
    "PBc=(1/Toc)*exp(-tlis/TBc)\n",
    "plt.figure(figsize=(8,6))\n",
    "plt.plot(tlis,POc,color=\"black\")\n",
    "plt.hist(tdur,bins=28,histtype ='barstacked',label='Hisotograma de la duracion de periodos oscuros',rwidth=1,edgecolor='black',color='magenta')\n",
    "plt.xlabel(r'$\\gamma t$',fontsize=20)\n",
    "plt.ylabel(r'Número de periodos oscuros ',fontsize=20)\n",
    "plt.xlim(0,600)\n",
    "plt.ylim(0,200)\n",
    "a"
   ]
  },
  {
   "cell_type": "code",
   "execution_count": null,
   "id": "79b55aff",
   "metadata": {
    "tags": []
   },
   "outputs": [],
   "source": [
    "'''\n",
    "Comparacion de los periodos brillantes y oscuros medidos con los de las formulas\n",
    "Omega = 1 #Frecuencia de rabi\n",
    "Delta = 0 #Desintonia\n",
    "ga = 0.015 \n",
    "gd = 0.05\n",
    "g = 0.935\n",
    "tlist\n",
    "'''\n",
    "\n",
    "#Promedio periodos oscuros\n",
    "tlis = np.linspace(0,800,950)\n",
    "a=np.mean(tdur)\n",
    "Toc=1/ga\n",
    "TBc=(2*Omega**3+g**2+4*Delta**2)/(gd*Omega**2)\n",
    "POc=(300000)*(1/Toc)*exp(-tlis/Toc)\n",
    "PBc=(200000)*(1/Toc)*exp(-tlis/TBc)\n",
    "plt.figure(figsize=(8,6))\n",
    "plt.plot(tlis,PBc,color=\"black\")\n",
    "plt.hist(tbdur,bins=21,histtype ='barstacked',label='Hisotograma de la duracion de periodos oscuros',rwidth=1,edgecolor='black',color='magenta')\n",
    "plt.xlabel(r'$\\gamma t$',fontsize=20)\n",
    "plt.ylabel(r'Número de periodos brillantes ',fontsize=20)\n",
    "plt.xlim(0,600)\n",
    "plt.ylim(0,200)\n",
    "a"
   ]
  },
  {
   "cell_type": "markdown",
   "id": "105433fc-165e-4b5f-9b1e-1360f289c7d7",
   "metadata": {
    "tags": []
   },
   "source": [
    "## Poblaciones "
   ]
  },
  {
   "cell_type": "code",
   "execution_count": null,
   "id": "9927db43",
   "metadata": {
    "tags": []
   },
   "outputs": [],
   "source": [
    "\n",
    "plt.figure(figsize=(8,6))\n",
    "#plt.bar(tiempos,tdur,width=50,color='orange')\n",
    "\n",
    "#plt.plot(tlist,MC.expect[0], label =r'$\\rho_{aa}(t)$', linestyle='-',linewidth = 0.6, color = 'green')\n",
    "plt.plot(tlist,MC.expect[1], label =r'$\\rho_{ee}(t)$', linestyle='-',linewidth = 0.6, color = 'black')\n",
    "#plt.plot(tlist,MC.expect[2], label =r'$\\rho_{gg}(t)$', linestyle='dashdot',linewidth = 0.5, color = 'orange')\n",
    "plt.xlabel(r'$\\gamma t$',fontsize=20)\n",
    "plt.ylabel(r'$\\rho_{ee}(t)$',fontsize=20)\n",
    "#plt.xlim(0,100000)\n",
    "#plt.legend(loc=1, prop={'size': 25})\n",
    "#plt.savefig('Fig. 2a.pdf')\n",
    "#plt.show()\n",
    "plt.figtext(0.5, -0.05, \n",
    "            r'Evolución temporal de la poblacion del estado exitado de 1 trayectoria '\n",
    "            r'$\\Omega = %.2f$, $\\Delta = %.2f$, $\\gamma_a = %.2f$, $\\gamma_d = %.2f$, $\\gamma = %.2f$,$\\Delta t = %i$' % (Omega, Delta, ga, gd, g,deltat), \n",
    "            ha='center', fontsize=12)\n"
   ]
  },
  {
   "cell_type": "code",
   "execution_count": null,
   "id": "20ed2977-19d2-40ed-98eb-7705bb4c2a0d",
   "metadata": {},
   "outputs": [],
   "source": []
  },
  {
   "cell_type": "code",
   "execution_count": null,
   "id": "f8f33c3b-24a2-4416-912d-0c9265a0f01b",
   "metadata": {},
   "outputs": [],
   "source": []
  }
 ],
 "metadata": {
  "kernelspec": {
   "display_name": "Python 3 (ipykernel)",
   "language": "python",
   "name": "python3"
  },
  "language_info": {
   "codemirror_mode": {
    "name": "ipython",
    "version": 3
   },
   "file_extension": ".py",
   "mimetype": "text/x-python",
   "name": "python",
   "nbconvert_exporter": "python",
   "pygments_lexer": "ipython3",
   "version": "3.11.5"
  }
 },
 "nbformat": 4,
 "nbformat_minor": 5
}
