{
 "cells": [
  {
   "cell_type": "markdown",
   "id": "3adb7f96",
   "metadata": {},
   "source": [
    "# Programa de la solución de las trayectorias cuánticas para el sistema de 3 niveles.\n",
    "## Distrubución de tiempos de espera"
   ]
  },
  {
   "cell_type": "code",
   "execution_count": 2,
   "id": "9fc263a2",
   "metadata": {},
   "outputs": [
    {
     "ename": "SyntaxError",
     "evalue": "invalid syntax (3244415040.py, line 1)",
     "output_type": "error",
     "traceback": [
      "\u001b[1;36m  Cell \u001b[1;32mIn[2], line 1\u001b[1;36m\u001b[0m\n\u001b[1;33m    pip install qutip\u001b[0m\n\u001b[1;37m        ^\u001b[0m\n\u001b[1;31mSyntaxError\u001b[0m\u001b[1;31m:\u001b[0m invalid syntax\n"
     ]
    }
   ],
   "source": [
    "# Instalar las librerias que falten\n",
    "pip install qutip\n",
    "pip install pandas\n",
    "pip install pylab\n",
    "pip install numpy \n",
    "pip install matplotlib "
   ]
  },
  {
   "cell_type": "code",
   "execution_count": 3,
   "id": "81e29e6e",
   "metadata": {},
   "outputs": [],
   "source": [
    "import qutip \n",
    "from qutip import *\n",
    "import numpy as np\n",
    "import matplotlib.pyplot as plt\n",
    "import pandas as pd\n",
    "from pylab import *"
   ]
  },
  {
   "cell_type": "code",
   "execution_count": 4,
   "id": "f1169549",
   "metadata": {},
   "outputs": [],
   "source": [
    "NF=3\n",
    "Kg = basis(NF,2)\n",
    "Ka = basis(NF,1)\n",
    "Ke = basis(NF,0)\n",
    "\n",
    "# Estado base\n",
    "psi0 = Kg \n",
    "\n",
    "Aaa = Ka*Ka.dag()\n",
    "Aee = Ke*Ke.dag()\n",
    "Agg = Kg*Kg.dag()\n",
    "Aeg = Ke*Kg.dag()\n",
    "Aag = Ka*Kg.dag()\n",
    "Aea = Ke*Ka.dag()\n",
    "Aae = Ka*Ke.dag()\n",
    "Aga = Kg*Ka.dag()\n",
    "Age = Kg*Ke.dag()\n",
    "\n",
    "#Valores esperados\n",
    "ket_a = Aaa #Definiendo los valores esperados con la diagonal principal\n",
    "ket_e = Aee\n",
    "ket_g = Agg\n",
    "\n",
    "expect_values = [Aaa,\n",
    "Aee,\n",
    "Agg] #Los valores esperados se ponen en forma de lista, no se si importe su orden\n",
    "\n",
    "Omega = 3.5 #Frecuencia de rabi\n",
    "Delta = 0 #Desintonia\n",
    "ga = 0.015 \n",
    "gd = 0.05\n",
    "g = 0.95\n",
    "\n",
    "\n",
    "\n",
    "#El numero de trayectorias necesarias para ver periodos brillantes y obscuros tiene que ser 1 \n",
    "#De lo contrario como ensamble no se ve porque en el mismo coinciden periodos brillantes con los obscuros de otros \n",
    "#Esta parpadeo es caracteristico de puntos cuanticos, átomos y algunas moleculas \n",
    "\n",
    "# Operadores de colapso\n",
    "Ceg = np.sqrt(g)*Age \n",
    "Cea = np.sqrt(gd)*Aae\n",
    "Cag = np.sqrt(ga)*Aga\n",
    "collapse = [Ceg ,Cea, Cag] #Ceg colapso 0, Cea colapso 1, Cag colapso 2\n",
    "\n",
    "#Hamiltoniano del sistema, no se le añaden los terminos de los colapsos porque el programa de la solucion de montecarlo\n",
    "#lo hace en automatico  con la funcion de liuvillian(H)\n",
    "H = Delta * Aee + 0.5 * Omega * (Aeg + Age)\n",
    "\n"
   ]
  },
  {
   "cell_type": "code",
   "execution_count": null,
   "id": "0a9e76ae",
   "metadata": {},
   "outputs": [
    {
     "name": "stdout",
     "output_type": "stream",
     "text": [
      "100.0%. Run time:   0.00s. Est. time left: 00:00:00:00\n"
     ]
    }
   ],
   "source": [
    "deltat=5000000\n",
    "tlist = np.linspace(0,500000,deltat)\n",
    "MC1 = mcsolve(H, psi0, tlist, collapse, expect_values, 1,\n",
    "             options={'num_cpus': 6})  # Pasar las opciones como diccionario\n",
    "#La funcion MC para resolver las trayectorias, H es el hamiltoniano, psi0 son las condiciones iniciales.\n",
    "#tlist es el tiempo con delta t dependiendo de la funcion linspace, collapse los operadores de colapso, expect_values los \n",
    "#valores esperados y ntraj el numero de trayectorias."
   ]
  },
  {
   "cell_type": "code",
   "execution_count": null,
   "id": "f2067197",
   "metadata": {},
   "outputs": [],
   "source": [
    "jump_times = MC1.col_times[0]  # tiempos de colapso\n",
    "waiting_times = np.diff(jump_times)  # diferencias entre tiempos consecutivos\n"
   ]
  },
  {
   "cell_type": "code",
   "execution_count": null,
   "id": "d7aedabd",
   "metadata": {},
   "outputs": [],
   "source": [
    "plt.hist(waiting_times, bins=50, density=True,color=\"magenta\")\n",
    "plt.xlabel(r'$\\gamma t$',fontsize=20)\n",
    "plt.ylabel(\"yt\")\n",
    "plt.ylim(0,0.001)\n",
    "plt.show()"
   ]
  }
 ],
 "metadata": {
  "kernelspec": {
   "display_name": "Python 3 (ipykernel)",
   "language": "python",
   "name": "python3"
  },
  "language_info": {
   "codemirror_mode": {
    "name": "ipython",
    "version": 3
   },
   "file_extension": ".py",
   "mimetype": "text/x-python",
   "name": "python",
   "nbconvert_exporter": "python",
   "pygments_lexer": "ipython3",
   "version": "3.11.5"
  }
 },
 "nbformat": 4,
 "nbformat_minor": 5
}
