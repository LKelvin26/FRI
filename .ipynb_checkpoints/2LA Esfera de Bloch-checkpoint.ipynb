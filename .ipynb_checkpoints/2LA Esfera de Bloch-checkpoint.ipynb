{
 "cells": [
  {
   "cell_type": "code",
   "execution_count": 15,
   "id": "8da49d05-d302-4ace-8c25-b211b6536c83",
   "metadata": {
    "tags": []
   },
   "outputs": [
    {
     "name": "stdout",
     "output_type": "stream",
     "text": [
      "10.0%. Run time:   0.00s. Est. time left: 00:00:00:00\n",
      "20.0%. Run time:   0.03s. Est. time left: 00:00:00:00\n",
      "30.0%. Run time:   0.06s. Est. time left: 00:00:00:00\n",
      "40.0%. Run time:   0.08s. Est. time left: 00:00:00:00\n",
      "50.0%. Run time:   0.11s. Est. time left: 00:00:00:00\n",
      "60.0%. Run time:   0.13s. Est. time left: 00:00:00:00\n",
      "70.0%. Run time:   0.16s. Est. time left: 00:00:00:00\n",
      "80.0%. Run time:   0.20s. Est. time left: 00:00:00:00\n",
      "90.0%. Run time:   0.23s. Est. time left: 00:00:00:00\n",
      "100.0%. Run time:   0.26s. Est. time left: 00:00:00:00\n",
      "Total run time:   0.28s\n"
     ]
    }
   ],
   "source": [
    "from qutip import basis, mcsolve, Bloch, sigmax, sigmay, sigmaz\n",
    "import numpy as np\n",
    "import matplotlib.pyplot as plt\n",
    "from matplotlib import animation\n",
    "\n",
    "# Definimos los estados base y excitado para un sistema de dos niveles\n",
    "NF = 2\n",
    "Kg = basis(NF, 1)  # estado base |g⟩\n",
    "Ke = basis(NF, 0)  # estado excitado |e⟩\n",
    "\n",
    "# Estado inicial en |g⟩\n",
    "psi0 = Kg\n",
    "\n",
    "# Parámetros del sistema\n",
    "Omega = 1     # Frecuencia de Rabi\n",
    "g = 1         # Tasa de emisión espontánea\n",
    "\n",
    "# Hamiltoniano de Rabi\n",
    "H = 0.5 * Omega * (Ke * Kg.dag() + Kg * Ke.dag())\n",
    "\n",
    "# Operador de colapso: emisión espontánea de |e⟩ a |g⟩\n",
    "Ceg = np.sqrt(g) * Kg * Ke.dag()\n",
    "collapse = [Ceg]\n",
    "\n",
    "# Tiempo de simulación y lista de tiempo\n",
    "tlist = np.linspace(0, 20, 200)\n",
    "\n",
    "# Solución de Monte Carlo con 10 trayectorias\n",
    "n_traj = 10\n",
    "MC1 = mcsolve(H, psi0, tlist, collapse, e_ops=[sigmax(), sigmay(), sigmaz()], ntraj=n_traj)\n",
    "\n",
    "# Configuración de la esfera de Bloch\n",
    "bloch = Bloch()\n",
    "bloch.figsize = [6, 6]\n",
    "\n",
    "# Forzamos la creación del canvas mostrando la figura brevemente\n",
    "bloch.render()\n",
    "plt.close()\n",
    "\n",
    "# Función de actualización para la animación\n",
    "def animate(i):\n",
    "    bloch.clear()  # Limpiar la esfera para la siguiente actualización\n",
    "    if i > 0:\n",
    "        x = MC1.expect[0][:i]  # Expectación de sigmax hasta el tiempo i\n",
    "        y = MC1.expect[1][:i]  # Expectación de sigmay hasta el tiempo i\n",
    "        z = MC1.expect[2][:i]  # Expectación de sigmaz hasta el tiempo i\n",
    "        bloch.add_points([x, y, z], 'b')  # Agregar puntos a la esfera de Bloch\n",
    "    bloch.render()  # Redibujar la esfera\n",
    "    return bloch.fig,\n",
    "\n",
    "# Crear la animación vinculada a la figura de Bloch\n",
    "ani = animation.FuncAnimation(bloch.fig, animate, frames=len(tlist), repeat=True)\n",
    "\n",
    "# Mostrar la animación\n",
    "plt.show()\n",
    "\n"
   ]
  },
  {
   "cell_type": "code",
   "execution_count": 18,
   "id": "a975b72f-1ec6-4c2a-90ef-9b2907338ae5",
   "metadata": {
    "tags": []
   },
   "outputs": [
    {
     "name": "stdout",
     "output_type": "stream",
     "text": [
      "Bloch data:\n",
      "-----------\n",
      "Number of points:  0\n",
      "Number of vectors: 0\n",
      "\n",
      "Bloch sphere properties:\n",
      "------------------------\n",
      "font_color:      black\n",
      "font_size:       20\n",
      "frame_alpha:     0.2\n",
      "frame_color:     gray\n",
      "frame_width:     1\n",
      "point_default_color:['b', 'r', 'g', '#CC6600']\n",
      "point_marker:    ['o', 's', 'd', '^']\n",
      "point_size:      [25, 32, 35, 45]\n",
      "sphere_alpha:    0.2\n",
      "sphere_color:    #FFDDDD\n",
      "figsize:         [6, 6]\n",
      "vector_default_color:['g', '#CC6600', 'b', 'r']\n",
      "vector_width:    3\n",
      "vector_style:    -|>\n",
      "vector_mutation: 20\n",
      "view:            [-60, 30]\n",
      "xlabel:          ['$x$', '']\n",
      "xlpos:           [1.2, -1.2]\n",
      "ylabel:          ['$y$', '']\n",
      "ylpos:           [1.2, -1.2]\n",
      "zlabel:          ['$\\\\left|0\\\\right>$', '$\\\\left|1\\\\right>$']\n",
      "zlpos:           [1.2, -1.2]\n",
      "\n"
     ]
    }
   ],
   "source": [
    "print(bloch)"
   ]
  },
  {
   "cell_type": "code",
   "execution_count": 20,
   "id": "68178935-e7f1-4956-95f2-c04394e3808d",
   "metadata": {
    "tags": []
   },
   "outputs": [
    {
     "name": "stdout",
     "output_type": "stream",
     "text": [
      "10.0%. Run time:   0.00s. Est. time left: 00:00:00:00\n",
      "20.0%. Run time:   0.03s. Est. time left: 00:00:00:00\n",
      "30.0%. Run time:   0.06s. Est. time left: 00:00:00:00\n",
      "40.0%. Run time:   0.08s. Est. time left: 00:00:00:00\n",
      "50.0%. Run time:   0.11s. Est. time left: 00:00:00:00\n",
      "60.0%. Run time:   0.13s. Est. time left: 00:00:00:00\n",
      "70.0%. Run time:   0.15s. Est. time left: 00:00:00:00\n",
      "80.0%. Run time:   0.18s. Est. time left: 00:00:00:00\n",
      "90.0%. Run time:   0.20s. Est. time left: 00:00:00:00\n",
      "100.0%. Run time:   0.23s. Est. time left: 00:00:00:00\n",
      "Total run time:   0.25s\n"
     ]
    }
   ],
   "source": [
    "# Solución de Monte Carlo con 10 trayectorias, guardando los estados\n",
    "MC1 = mcsolve(H, psi0, tlist, collapse, ntraj=n_traj)\n",
    "\n",
    "# Función de actualización para la animación\n",
    "def animate(i):\n",
    "    bloch.clear()\n",
    "    for traj in range(n_traj):\n",
    "        state = MC1.states[traj][i]\n",
    "        x = expect(sigmax(), state)\n",
    "        y = expect(sigmay(), state)\n",
    "        z = expect(sigmaz(), state)\n",
    "        bloch.add_points([x, y, z], 'b')\n",
    "    bloch.render()\n",
    "    return bloch.fig,\n"
   ]
  },
  {
   "cell_type": "code",
   "execution_count": null,
   "id": "d5183af2-949c-4865-b4ff-c24d8522042b",
   "metadata": {},
   "outputs": [],
   "source": []
  }
 ],
 "metadata": {
  "kernelspec": {
   "display_name": "Python 3 (ipykernel)",
   "language": "python",
   "name": "python3"
  },
  "language_info": {
   "codemirror_mode": {
    "name": "ipython",
    "version": 3
   },
   "file_extension": ".py",
   "mimetype": "text/x-python",
   "name": "python",
   "nbconvert_exporter": "python",
   "pygments_lexer": "ipython3",
   "version": "3.11.5"
  }
 },
 "nbformat": 4,
 "nbformat_minor": 5
}
