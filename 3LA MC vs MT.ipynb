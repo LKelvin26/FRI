{
 "cells": [
  {
   "cell_type": "markdown",
   "id": "3c8e854e",
   "metadata": {},
   "source": [
    "# Programa de la solución de las trayectorias cuánticas para el sistema de 3 niveles.\n",
    "## Distribución de periodos brillantes y obscuros \n",
    "## Distrubución de tiempos de espera\n",
    "## Distribución de conteo de fotones "
   ]
  },
  {
   "cell_type": "markdown",
   "id": "a8d38725-0d66-49f6-8add-8d9d9db5d8b9",
   "metadata": {},
   "source": [
    "## Figura del proyecto"
   ]
  },
  {
   "cell_type": "markdown",
   "id": "f0c5fa39",
   "metadata": {},
   "source": [
    "\n",
    "<img src=\"3LAkev.png\" alt=\"a\" class=\"bg-primary mb-1\" width=\"400px\">\n"
   ]
  },
  {
   "cell_type": "code",
   "execution_count": 1,
   "id": "f313878d",
   "metadata": {
    "tags": []
   },
   "outputs": [],
   "source": [
    "import qutip \n",
    "from qutip import *\n",
    "import numpy as np\n",
    "import matplotlib.pyplot as plt\n",
    "import pandas as pd\n",
    "from pylab import *"
   ]
  },
  {
   "cell_type": "markdown",
   "id": "10f13a0f",
   "metadata": {},
   "source": [
    "\n",
    "### La funcion basis es para el número de estados de Fock en el espacio de Hilbert. Si es una lista, entonces el objeto resultante será un producto tensorial  sobre espacios con esas dimensiones.\n"
   ]
  },
  {
   "cell_type": "code",
   "execution_count": 2,
   "id": "b5d98ee9",
   "metadata": {
    "tags": []
   },
   "outputs": [],
   "source": [
    "NF=3\n",
    "Kg = basis(NF,2)\n",
    "Ka = basis(NF,1)\n",
    "Ke = basis(NF,0)\n",
    "\n",
    "# Estado base\n",
    "psi0 = Kg "
   ]
  },
  {
   "cell_type": "markdown",
   "id": "309658c7",
   "metadata": {},
   "source": [
    "### Para describir los estados de sistemas cuánticos multipartitos (como dos qubits acoplados, un qubit acoplado a un oscilador, etc.) necesitamos expandir el espacio de Hilbert tomando el producto tensorial de los vectores de estado para cada uno de los componentes del sistema. De manera similar, los operadores que actúan sobre los vectores de estado en el espacio de Hilbert combinado (que describe el sistema acoplado) se forman tomando el producto tensorial de los operadores individuales."
   ]
  },
  {
   "cell_type": "code",
   "execution_count": 3,
   "id": "0398ff81",
   "metadata": {
    "tags": []
   },
   "outputs": [],
   "source": [
    "Aaa = Ka*Ka.dag()\n",
    "Aee = Ke*Ke.dag()\n",
    "Agg = Kg*Kg.dag()\n",
    "Aeg = Ke*Kg.dag()\n",
    "Aag = Ka*Kg.dag()\n",
    "Aea = Ke*Ka.dag()\n",
    "Aae = Ka*Ke.dag()\n",
    "Aga = Kg*Ka.dag()\n",
    "Age = Kg*Ke.dag()\n",
    "\n",
    "#Valores esperados\n",
    "ket_a = Aaa #Definiendo los valores esperados con la diagonal principal\n",
    "ket_e = Aee\n",
    "ket_g = Agg\n",
    "\n",
    "expect_values = [Aaa,\n",
    "Aee,\n",
    "Agg] #Los valores esperados se ponen en forma de lista, no se si importe su orden\n"
   ]
  },
  {
   "cell_type": "markdown",
   "id": "fee9f87e",
   "metadata": {},
   "source": [
    "### Parametros del experimento. "
   ]
  },
  {
   "cell_type": "code",
   "execution_count": 39,
   "id": "fb64c6e3",
   "metadata": {
    "tags": []
   },
   "outputs": [],
   "source": [
    "Omega = 3.5 #Frecuencia de rabi\n",
    "Delta = 0 #Desintonia\n",
    "ga = 0.015 \n",
    "gd = 0.05\n",
    "g = 0.935\n",
    "ntraj =500 # Numero de trayectorias \n",
    "tlist = np.linspace(0,20,10000)\n",
    "\n",
    "#El numero de trayectorias necesarias para ver periodos brillantes y obscuros tiene que ser 1 \n",
    "#De lo contrario como ensamble no se ve porque en el mismo coinciden periodos brillantes con los obscuros de otros \n",
    "#Esta parpadeo es caracteristico de puntos cuanticos, átomos y algunas moleculas "
   ]
  },
  {
   "cell_type": "markdown",
   "id": "85eb7b49",
   "metadata": {},
   "source": [
    "### Operadores de colapso"
   ]
  },
  {
   "cell_type": "code",
   "execution_count": 40,
   "id": "aa68f09f",
   "metadata": {
    "tags": []
   },
   "outputs": [],
   "source": [
    "# Operadores de colapso\n",
    "Ceg = np.sqrt(g)*Age \n",
    "Cea = np.sqrt(gd)*Aae\n",
    "Cag = np.sqrt(ga)*Aga\n",
    "collapse = [Ceg ,Cea, Cag] #Ceg colapso 0, Cea colapso 1, Cag colapso 2\n"
   ]
  },
  {
   "cell_type": "markdown",
   "id": "d649ac76",
   "metadata": {},
   "source": [
    "### Hamiltoniano"
   ]
  },
  {
   "cell_type": "code",
   "execution_count": 41,
   "id": "5e581bad",
   "metadata": {
    "tags": []
   },
   "outputs": [],
   "source": [
    "#Hamiltoniano del sistema, no se le añaden los terminos de los colapsos porque el programa de la solucion de montecarlo\n",
    "#lo hace en automatico  con la funcion de liuvillian(H)\n",
    "H = Delta * Aee + 0.5 * Omega * (Aeg + Age)"
   ]
  },
  {
   "cell_type": "markdown",
   "id": "8a26f6df",
   "metadata": {},
   "source": [
    "### Metodo de montecarlo para resolver las trayectorias cuanticas-"
   ]
  },
  {
   "cell_type": "code",
   "execution_count": null,
   "id": "85167d90",
   "metadata": {
    "tags": []
   },
   "outputs": [
    {
     "name": "stdout",
     "output_type": "stream",
     "text": [
      "10.0%. Run time:  40.38s. Est. time left: 00:00:06:03\n",
      "20.0%. Run time:  81.08s. Est. time left: 00:00:05:24\n",
      "30.0%. Run time: 122.19s. Est. time left: 00:00:04:45\n",
      "40.0%. Run time: 163.11s. Est. time left: 00:00:04:04\n",
      "50.0%. Run time: 204.32s. Est. time left: 00:00:03:24\n",
      "60.0%. Run time: 245.46s. Est. time left: 00:00:02:43\n",
      "70.0%. Run time: 286.38s. Est. time left: 00:00:02:02\n",
      "80.0%. Run time: 327.10s. Est. time left: 00:00:01:21\n",
      "90.0%. Run time: 368.15s. Est. time left: 00:00:00:40\n"
     ]
    }
   ],
   "source": [
    "\n",
    "MC = mcsolve(H, psi0, tlist, collapse, expect_values, ntraj,\n",
    "             options={'num_cpus': 6})  # Pasar las opciones como diccionario\n",
    "#La funcion MC para resolver las trayectorias, H es el hamiltoniano, psi0 son las condiciones iniciales.\n",
    "#tlist es el tiempo con delta t dependiendo de la funcion linspace, collapse los operadores de colapso, expect_values los \n",
    "#valores esperados y ntraj el numero de trayectorias.\n",
    "\n"
   ]
  },
  {
   "cell_type": "code",
   "execution_count": null,
   "id": "7443b037-13c1-47f6-82ea-1266ae1d8f83",
   "metadata": {
    "tags": []
   },
   "outputs": [],
   "source": [
    "\n",
    "#MC = mesolve(H, psi0, tlist, collapse, expect_values)"
   ]
  },
  {
   "cell_type": "code",
   "execution_count": null,
   "id": "f2805775",
   "metadata": {
    "tags": []
   },
   "outputs": [],
   "source": [
    "collapse = MC.col_which;\n",
    "times = MC.col_times;\n",
    "collapse_list = list(zip(collapse[0], times[0]))\n",
    "lc=collapse_list\n",
    "data = pd.DataFrame(collapse_list, columns=['colapso','tiempo'])\n",
    "a=data[data['colapso']==2]\n",
    "b=data[data['colapso']==1]\n",
    "c=data[data['colapso']==0]\n",
    "\n",
    "tamax=len(lc)\n"
   ]
  },
  {
   "cell_type": "markdown",
   "id": "105433fc-165e-4b5f-9b1e-1360f289c7d7",
   "metadata": {
    "tags": []
   },
   "source": [
    "## Poblaciones "
   ]
  },
  {
   "cell_type": "code",
   "execution_count": null,
   "id": "9927db43",
   "metadata": {
    "tags": []
   },
   "outputs": [],
   "source": [
    "\n",
    "plt.figure(figsize=(8,6))\n",
    "#plt.bar(tiempos,tdur,width=50,color='orange')\n",
    "\n",
    "plt.plot(tlist,MC.expect[0], label =r'$\\rho_{aa}(t)$', linestyle='-',linewidth = 0.6, color = 'green')\n",
    "plt.plot(tlist,MC.expect[1], label =r'$\\rho_{ee}(t)$', linestyle='-',linewidth = 0.6, color = 'blue')\n",
    "plt.plot(tlist,MC.expect[2], label =r'$\\rho_{gg}(t)$', linestyle='dashdot',linewidth = 0.5, color = 'orange')\n",
    "plt.xlabel(r'$\\gamma t$',fontsize=20)\n",
    "plt.ylabel(r'$\\rho_{ee}(t)$',fontsize=20)\n",
    "#plt.xlim(0,200)\n",
    "plt.ylim(0,1)\n",
    "#plt.legend(loc=1, prop={'size': 25})\n",
    "#plt.savefig('Fig. 2a.pdf')\n",
    "#plt.show()"
   ]
  },
  {
   "cell_type": "markdown",
   "id": "61d335d9",
   "metadata": {},
   "source": [
    "## "
   ]
  }
 ],
 "metadata": {
  "kernelspec": {
   "display_name": "Python 3 (ipykernel)",
   "language": "python",
   "name": "python3"
  },
  "language_info": {
   "codemirror_mode": {
    "name": "ipython",
    "version": 3
   },
   "file_extension": ".py",
   "mimetype": "text/x-python",
   "name": "python",
   "nbconvert_exporter": "python",
   "pygments_lexer": "ipython3",
   "version": "3.11.5"
  }
 },
 "nbformat": 4,
 "nbformat_minor": 5
}
